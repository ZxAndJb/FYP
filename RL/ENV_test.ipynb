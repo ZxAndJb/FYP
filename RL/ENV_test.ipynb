{
 "cells": [
  {
   "cell_type": "code",
   "execution_count": 16,
   "metadata": {
    "collapsed": true,
    "pycharm": {
     "name": "#%%\n"
    }
   },
   "outputs": [],
   "source": [
    "from Env import Env\n",
    "from RISparser import readris\n",
    "import pandas as pd\n",
    "import warnings\n",
    "from collections import defaultdict\n",
    "import re\n",
    "from nltk.tokenize import sent_tokenize,word_tokenize\n",
    "from sklearn.model_selection import train_test_split\n",
    "from HAN.HAN_ import parseData,judgeWords,ConvertToid,covid_dataset,HAN_Attention\n",
    "from torch.utils.data import Dataset\n",
    "import torch\n",
    "import numpy as np\n"
   ]
  },
  {
   "cell_type": "code",
   "execution_count": 17,
   "outputs": [],
   "source": [
    "\n",
    "## 加载字典\n",
    "int_vocab  = np.load('../HAN/int_vocab.npy',allow_pickle=True).item()\n",
    "vocab_int = np.load('../HAN/vocab_int.npy',allow_pickle=True).item()"
   ],
   "metadata": {
    "collapsed": false,
    "pycharm": {
     "name": "#%%\n"
    }
   }
  },
  {
   "cell_type": "code",
   "execution_count": 18,
   "outputs": [
    {
     "data": {
      "text/plain": "<All keys matched successfully>"
     },
     "execution_count": 18,
     "metadata": {},
     "output_type": "execute_result"
    }
   ],
   "source": [
    "warnings.filterwarnings('ignore')\n",
    "TrainingIncludes = readris(open(\"../DATA/1_Training_Included_20878.ris.txt\", 'r', encoding=\"utf-8\"))\n",
    "TrainingExcludes = readris(open('../DATA/2_Training_Excluded_38635.ris.txt', 'r', encoding=\"utf-8\"))\n",
    "TrainingDf = parseData(TrainingIncludes, TrainingExcludes)\n",
    "stopwords = pd.read_csv('../DATA/pubmed.stoplist.csv')\n",
    "stopwords = stopwords.values.squeeze().tolist()\n",
    "Train_copy = TrainingDf.copy()\n",
    "Train_copy['Sen_Num'] = None\n",
    "MAX_Sen_Len = 18\n",
    "Max_SEN_Number = 16\n",
    "MIN_SEN_Number = 3\n",
    "\n",
    "for i in range(0, len(Train_copy[\"content\"])):\n",
    "    Train_copy.at[i, \"content\"] = sent_tokenize(Train_copy.loc[i, \"content\"])\n",
    "    Train_copy.loc[i, \"Sen_Num\"] = len(Train_copy.loc[i, \"content\"])\n",
    "    s = []\n",
    "    for sen in Train_copy.loc[i, \"content\"]:\n",
    "        sen = re.sub(r'[.,\"\\'?:!;=><\\\\/]', ' ', sen)\n",
    "        words = word_tokenize(sen)\n",
    "        cutwords = [word.lower() for word in words if (word.lower() not in stopwords) and judgeWords(word)]\n",
    "        s.append(cutwords)\n",
    "    Train_copy.at[i, \"content\"] = s\n",
    "\n",
    "Train_copy = Train_copy.query('@MIN_SEN_Number<Sen_Num<@Max_SEN_Number')\n",
    "Train_copy.reset_index(inplace=True, drop=True)\n",
    "\n",
    "\n",
    "Data_INT = Train_copy[\"content\"].copy()\n",
    "for i in range(0, len(Data_INT)):\n",
    "    Data_INT.at[i] = ConvertToid(vocab_int, Data_INT.iloc[i])\n",
    "\n",
    "x_train, x_val, y_train, y_val = train_test_split(Data_INT, Train_copy[\"label\"], test_size=0.1, random_state=42)\n",
    "\n",
    "# loss function\n",
    "tran_set = covid_dataset(x_train, y_train)\n",
    "Vali_set = covid_dataset(x_train, y_train)\n",
    "\n",
    "model = HAN_Attention(len(int_vocab.keys()),100,256,2).cuda()\n",
    "model.load_state_dict(torch.load(\"../HAN/HAN.pth\"))\n"
   ],
   "metadata": {
    "collapsed": false,
    "pycharm": {
     "name": "#%%\n"
    }
   }
  },
  {
   "cell_type": "code",
   "execution_count": 19,
   "outputs": [],
   "source": [],
   "metadata": {
    "collapsed": false,
    "pycharm": {
     "name": "#%%\n"
    }
   }
  },
  {
   "cell_type": "code",
   "execution_count": 20,
   "outputs": [
    {
     "name": "stdout",
     "output_type": "stream",
     "text": [
      "tensor(0)\n",
      "torch.Size([])\n",
      "tensor([0])\n",
      "torch.Size([1])\n",
      "<class 'torch.Tensor'>\n",
      "tensor([True])\n"
     ]
    }
   ],
   "source": [
    "state = Env.reset()\n",
    "action = 3\n",
    "next_state, reward, done = Env.step(action)"
   ],
   "metadata": {
    "collapsed": false,
    "pycharm": {
     "name": "#%%\n"
    }
   }
  }
 ],
 "metadata": {
  "kernelspec": {
   "display_name": "Python 3",
   "language": "python",
   "name": "python3"
  },
  "language_info": {
   "codemirror_mode": {
    "name": "ipython",
    "version": 2
   },
   "file_extension": ".py",
   "mimetype": "text/x-python",
   "name": "python",
   "nbconvert_exporter": "python",
   "pygments_lexer": "ipython2",
   "version": "2.7.6"
  }
 },
 "nbformat": 4,
 "nbformat_minor": 0
}